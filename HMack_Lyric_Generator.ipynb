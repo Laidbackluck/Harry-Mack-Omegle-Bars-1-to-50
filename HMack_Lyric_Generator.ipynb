{
 "cells": [
  {
   "cell_type": "code",
   "execution_count": 1,
   "id": "18c317a1-bfc8-43d1-9d82-0e8ff08a3db5",
   "metadata": {},
   "outputs": [],
   "source": [
    "import pandas as pd\n",
    "import numpy as np\n",
    "\n",
    "# from wordcloud import WordCloud, STOPWORDS, ImageColorGenerator\n",
    "import string, os \n",
    "import tensorflow as tf\n",
    "\n",
    "# keras module for building LSTM \n",
    "from keras.preprocessing.sequence import pad_sequences\n",
    "from tensorflow.keras.layers import Embedding, Dropout, LSTM, Dense, Bidirectional \n",
    "from keras.preprocessing.text import Tokenizer\n",
    "from keras.callbacks import EarlyStopping\n",
    "from keras.models import Sequential\n",
    "\n",
    "import matplotlib.pyplot as plt\n",
    "import seaborn as sns"
   ]
  },
  {
   "cell_type": "code",
   "execution_count": 2,
   "id": "7d2f8a7b-ad83-482f-88b8-74ec0a47c722",
   "metadata": {},
   "outputs": [],
   "source": [
    "df = pd.read_csv('./Harry Mack Omegle Bars 1 to 50 Lyrics - Sheet1.csv')"
   ]
  },
  {
   "cell_type": "code",
   "execution_count": 3,
   "id": "5e6f7f38-e057-4f13-af4e-4044d6da12ba",
   "metadata": {},
   "outputs": [
    {
     "data": {
      "text/html": [
       "<div>\n",
       "<style scoped>\n",
       "    .dataframe tbody tr th:only-of-type {\n",
       "        vertical-align: middle;\n",
       "    }\n",
       "\n",
       "    .dataframe tbody tr th {\n",
       "        vertical-align: top;\n",
       "    }\n",
       "\n",
       "    .dataframe thead th {\n",
       "        text-align: right;\n",
       "    }\n",
       "</style>\n",
       "<table border=\"1\" class=\"dataframe\">\n",
       "  <thead>\n",
       "    <tr style=\"text-align: right;\">\n",
       "      <th></th>\n",
       "      <th>Lyrics</th>\n",
       "      <th>Words</th>\n",
       "      <th>Omegle Bars Episode</th>\n",
       "      <th>Fast Flow (Y/N)</th>\n",
       "      <th>Flow State (Start/Pocket)</th>\n",
       "      <th>Lyric State (Verse/Hook)</th>\n",
       "      <th>Link</th>\n",
       "    </tr>\n",
       "  </thead>\n",
       "  <tbody>\n",
       "    <tr>\n",
       "      <th>0</th>\n",
       "      <td>yeah yeah come on aye come on aye come on aye ...</td>\n",
       "      <td>florescent adolescence rainbow wetherspoons</td>\n",
       "      <td>1-1</td>\n",
       "      <td>NaN</td>\n",
       "      <td>Start</td>\n",
       "      <td>NaN</td>\n",
       "      <td>https://www.youtube.com/watch?v=NPdKxsSE5JQ&amp;li...</td>\n",
       "    </tr>\n",
       "    <tr>\n",
       "      <th>1</th>\n",
       "      <td>baby peeping my essence</td>\n",
       "      <td>florescent adolescence rainbow wetherspoons</td>\n",
       "      <td>1-1</td>\n",
       "      <td>NaN</td>\n",
       "      <td>In the Pocket</td>\n",
       "      <td>NaN</td>\n",
       "      <td>https://www.youtube.com/watch?v=NPdKxsSE5JQ&amp;li...</td>\n",
       "    </tr>\n",
       "    <tr>\n",
       "      <th>2</th>\n",
       "      <td>shining florescent</td>\n",
       "      <td>florescent adolescence rainbow wetherspoons</td>\n",
       "      <td>1-1</td>\n",
       "      <td>NaN</td>\n",
       "      <td>NaN</td>\n",
       "      <td>NaN</td>\n",
       "      <td>https://www.youtube.com/watch?v=NPdKxsSE5JQ&amp;li...</td>\n",
       "    </tr>\n",
       "    <tr>\n",
       "      <th>3</th>\n",
       "      <td>I've been doing like that since a young adoles...</td>\n",
       "      <td>florescent adolescence rainbow wetherspoons</td>\n",
       "      <td>1-1</td>\n",
       "      <td>NaN</td>\n",
       "      <td>NaN</td>\n",
       "      <td>NaN</td>\n",
       "      <td>https://www.youtube.com/watch?v=NPdKxsSE5JQ&amp;li...</td>\n",
       "    </tr>\n",
       "    <tr>\n",
       "      <th>4</th>\n",
       "      <td>yeah I'm shining</td>\n",
       "      <td>florescent adolescence rainbow wetherspoons</td>\n",
       "      <td>1-1</td>\n",
       "      <td>NaN</td>\n",
       "      <td>NaN</td>\n",
       "      <td>NaN</td>\n",
       "      <td>https://www.youtube.com/watch?v=NPdKxsSE5JQ&amp;li...</td>\n",
       "    </tr>\n",
       "  </tbody>\n",
       "</table>\n",
       "</div>"
      ],
      "text/plain": [
       "                                              Lyrics  \\\n",
       "0  yeah yeah come on aye come on aye come on aye ...   \n",
       "1                           baby peeping my essence    \n",
       "2                                 shining florescent   \n",
       "3  I've been doing like that since a young adoles...   \n",
       "4                                   yeah I'm shining   \n",
       "\n",
       "                                         Words Omegle Bars Episode  \\\n",
       "0  florescent adolescence rainbow wetherspoons                 1-1   \n",
       "1  florescent adolescence rainbow wetherspoons                 1-1   \n",
       "2  florescent adolescence rainbow wetherspoons                 1-1   \n",
       "3  florescent adolescence rainbow wetherspoons                 1-1   \n",
       "4  florescent adolescence rainbow wetherspoons                 1-1   \n",
       "\n",
       "   Fast Flow (Y/N) Flow State (Start/Pocket)  Lyric State (Verse/Hook)  \\\n",
       "0              NaN                     Start                       NaN   \n",
       "1              NaN             In the Pocket                       NaN   \n",
       "2              NaN                       NaN                       NaN   \n",
       "3              NaN                       NaN                       NaN   \n",
       "4              NaN                       NaN                       NaN   \n",
       "\n",
       "                                                Link  \n",
       "0  https://www.youtube.com/watch?v=NPdKxsSE5JQ&li...  \n",
       "1  https://www.youtube.com/watch?v=NPdKxsSE5JQ&li...  \n",
       "2  https://www.youtube.com/watch?v=NPdKxsSE5JQ&li...  \n",
       "3  https://www.youtube.com/watch?v=NPdKxsSE5JQ&li...  \n",
       "4  https://www.youtube.com/watch?v=NPdKxsSE5JQ&li...  "
      ]
     },
     "execution_count": 3,
     "metadata": {},
     "output_type": "execute_result"
    }
   ],
   "source": [
    "df.head()"
   ]
  },
  {
   "cell_type": "code",
   "execution_count": 4,
   "id": "71da9a9d-3bdd-4195-a3c9-3e699a2c0e3c",
   "metadata": {},
   "outputs": [],
   "source": [
    "df.drop(['Fast Flow (Y/N)', 'Flow State (Start/Pocket)', 'Lyric State (Verse/Hook)', 'Link'], axis=1, inplace=True)"
   ]
  },
  {
   "cell_type": "code",
   "execution_count": 5,
   "id": "8692d0da-aab6-44aa-87cc-01e41637f886",
   "metadata": {},
   "outputs": [
    {
     "data": {
      "text/html": [
       "<div>\n",
       "<style scoped>\n",
       "    .dataframe tbody tr th:only-of-type {\n",
       "        vertical-align: middle;\n",
       "    }\n",
       "\n",
       "    .dataframe tbody tr th {\n",
       "        vertical-align: top;\n",
       "    }\n",
       "\n",
       "    .dataframe thead th {\n",
       "        text-align: right;\n",
       "    }\n",
       "</style>\n",
       "<table border=\"1\" class=\"dataframe\">\n",
       "  <thead>\n",
       "    <tr style=\"text-align: right;\">\n",
       "      <th></th>\n",
       "      <th>Lyrics</th>\n",
       "      <th>Words</th>\n",
       "      <th>Omegle Bars Episode</th>\n",
       "    </tr>\n",
       "  </thead>\n",
       "  <tbody>\n",
       "    <tr>\n",
       "      <th>0</th>\n",
       "      <td>yeah yeah come on aye come on aye come on aye ...</td>\n",
       "      <td>florescent adolescence rainbow wetherspoons</td>\n",
       "      <td>1-1</td>\n",
       "    </tr>\n",
       "    <tr>\n",
       "      <th>1</th>\n",
       "      <td>baby peeping my essence</td>\n",
       "      <td>florescent adolescence rainbow wetherspoons</td>\n",
       "      <td>1-1</td>\n",
       "    </tr>\n",
       "    <tr>\n",
       "      <th>2</th>\n",
       "      <td>shining florescent</td>\n",
       "      <td>florescent adolescence rainbow wetherspoons</td>\n",
       "      <td>1-1</td>\n",
       "    </tr>\n",
       "    <tr>\n",
       "      <th>3</th>\n",
       "      <td>I've been doing like that since a young adoles...</td>\n",
       "      <td>florescent adolescence rainbow wetherspoons</td>\n",
       "      <td>1-1</td>\n",
       "    </tr>\n",
       "    <tr>\n",
       "      <th>4</th>\n",
       "      <td>yeah I'm shining</td>\n",
       "      <td>florescent adolescence rainbow wetherspoons</td>\n",
       "      <td>1-1</td>\n",
       "    </tr>\n",
       "  </tbody>\n",
       "</table>\n",
       "</div>"
      ],
      "text/plain": [
       "                                              Lyrics  \\\n",
       "0  yeah yeah come on aye come on aye come on aye ...   \n",
       "1                           baby peeping my essence    \n",
       "2                                 shining florescent   \n",
       "3  I've been doing like that since a young adoles...   \n",
       "4                                   yeah I'm shining   \n",
       "\n",
       "                                         Words Omegle Bars Episode  \n",
       "0  florescent adolescence rainbow wetherspoons                 1-1  \n",
       "1  florescent adolescence rainbow wetherspoons                 1-1  \n",
       "2  florescent adolescence rainbow wetherspoons                 1-1  \n",
       "3  florescent adolescence rainbow wetherspoons                 1-1  \n",
       "4  florescent adolescence rainbow wetherspoons                 1-1  "
      ]
     },
     "execution_count": 5,
     "metadata": {},
     "output_type": "execute_result"
    }
   ],
   "source": [
    "df.head()"
   ]
  },
  {
   "cell_type": "code",
   "execution_count": 6,
   "id": "d954bbb8-baea-49eb-84f2-44ce0ae346b3",
   "metadata": {},
   "outputs": [
    {
     "data": {
      "text/plain": [
       "(120, 3)"
      ]
     },
     "execution_count": 6,
     "metadata": {},
     "output_type": "execute_result"
    }
   ],
   "source": [
    "df.shape"
   ]
  },
  {
   "cell_type": "code",
   "execution_count": 7,
   "id": "66a3000e-2585-47f5-8d92-48649206d6a2",
   "metadata": {},
   "outputs": [],
   "source": [
    "df['Number_of_words'] = df['Lyrics'].apply(lambda x: len(str(x).split()))"
   ]
  },
  {
   "cell_type": "code",
   "execution_count": 8,
   "id": "c01a0627-a381-4936-917f-cd0162d1d4fb",
   "metadata": {},
   "outputs": [
    {
     "data": {
      "text/plain": [
       "count    120.000000\n",
       "mean       6.525000\n",
       "std        3.103163\n",
       "min        1.000000\n",
       "25%        4.000000\n",
       "50%        6.000000\n",
       "75%        8.000000\n",
       "max       18.000000\n",
       "Name: Number_of_words, dtype: float64"
      ]
     },
     "execution_count": 8,
     "metadata": {},
     "output_type": "execute_result"
    }
   ],
   "source": [
    "df['Number_of_words'].describe()"
   ]
  },
  {
   "cell_type": "code",
   "execution_count": 9,
   "id": "632976a3-e577-4b0c-baaa-8b00fcccbc35",
   "metadata": {},
   "outputs": [
    {
     "data": {
      "text/plain": [
       "<seaborn.axisgrid.FacetGrid at 0x2bc8d420ee0>"
      ]
     },
     "execution_count": 9,
     "metadata": {},
     "output_type": "execute_result"
    },
    {
     "data": {
      "text/plain": [
       "<Figure size 864x432 with 0 Axes>"
      ]
     },
     "metadata": {},
     "output_type": "display_data"
    },
    {
     "data": {
      "image/png": "[encoded data removed]",
      "text/plain": [
       "<Figure size 360x360 with 1 Axes>"
      ]
     },
     "metadata": {},
     "output_type": "display_data"
    }
   ],
   "source": [
    "plt.style.use('ggplot')\n",
    "plt.figure(figsize=(12,6))\n",
    "sns.displot(df['Number_of_words'], kde=False, color='red', bins=18)\n"
   ]
  },
  {
   "cell_type": "code",
   "execution_count": 10,
   "id": "03cbfd77-0d4c-420b-8b35-624f07c84cf0",
   "metadata": {},
   "outputs": [
    {
     "data": {
      "text/plain": [
       "[6, 6, 23, 18, 27, 23, 18, 27, 23, 18, 27, 23, 18, 27, 23, 18, 27]"
      ]
     },
     "execution_count": 10,
     "metadata": {},
     "output_type": "execute_result"
    }
   ],
   "source": [
    "tokenizer = Tokenizer()\n",
    "tokenizer.fit_on_texts(df['Lyrics'].astype(str).str.lower())\n",
    "\n",
    "total_words = len(tokenizer.word_index)+1\n",
    "tokenized_sentences = tokenizer.texts_to_sequences(df['Lyrics'].astype(str))\n",
    "tokenized_sentences[0]"
   ]
  },
  {
   "cell_type": "code",
   "execution_count": 11,
   "id": "34975682-edf5-4c9b-8892-7542195e40e3",
   "metadata": {},
   "outputs": [],
   "source": [
    "input_sequences = list()\n",
    "for i in tokenized_sentences:\n",
    "    for t in range(1, len(i)):\n",
    "        n_gram_sequence = i[:t+1]\n",
    "        input_sequences.append(n_gram_sequence)\n",
    "        \n",
    "max_sequence_len = max([len(x) for x in input_sequences])\n",
    "input_sequences = np.array(pad_sequences(input_sequences, maxlen=max_sequence_len, padding='pre'))"
   ]
  },
  {
   "cell_type": "code",
   "execution_count": 12,
   "id": "14b3bd65-e1d6-4938-bc69-107947cf1370",
   "metadata": {},
   "outputs": [
    {
     "data": {
      "text/plain": [
       "array([[ 0,  0,  0,  0,  0,  0,  0,  0,  0,  0,  0,  0,  0,  0,  0,  0,\n",
       "         6,  6],\n",
       "       [ 0,  0,  0,  0,  0,  0,  0,  0,  0,  0,  0,  0,  0,  0,  0,  6,\n",
       "         6, 23],\n",
       "       [ 0,  0,  0,  0,  0,  0,  0,  0,  0,  0,  0,  0,  0,  0,  6,  6,\n",
       "        23, 18],\n",
       "       [ 0,  0,  0,  0,  0,  0,  0,  0,  0,  0,  0,  0,  0,  6,  6, 23,\n",
       "        18, 27],\n",
       "       [ 0,  0,  0,  0,  0,  0,  0,  0,  0,  0,  0,  0,  6,  6, 23, 18,\n",
       "        27, 23],\n",
       "       [ 0,  0,  0,  0,  0,  0,  0,  0,  0,  0,  0,  6,  6, 23, 18, 27,\n",
       "        23, 18],\n",
       "       [ 0,  0,  0,  0,  0,  0,  0,  0,  0,  0,  6,  6, 23, 18, 27, 23,\n",
       "        18, 27],\n",
       "       [ 0,  0,  0,  0,  0,  0,  0,  0,  0,  6,  6, 23, 18, 27, 23, 18,\n",
       "        27, 23],\n",
       "       [ 0,  0,  0,  0,  0,  0,  0,  0,  6,  6, 23, 18, 27, 23, 18, 27,\n",
       "        23, 18],\n",
       "       [ 0,  0,  0,  0,  0,  0,  0,  6,  6, 23, 18, 27, 23, 18, 27, 23,\n",
       "        18, 27]])"
      ]
     },
     "execution_count": 12,
     "metadata": {},
     "output_type": "execute_result"
    }
   ],
   "source": [
    "input_sequences[:10]"
   ]
  },
  {
   "cell_type": "code",
   "execution_count": 13,
   "id": "8e7f9559-3a3b-4af5-b705-fee6cc63ab30",
   "metadata": {},
   "outputs": [],
   "source": [
    "X, labels = input_sequences[:,:-1], input_sequences[:,-1]\n",
    "y = tf.keras.utils.to_categorical(labels, num_classes=total_words)"
   ]
  },
  {
   "cell_type": "code",
   "execution_count": 14,
   "id": "ba396e7c-4701-48f0-a5ca-742891f157b4",
   "metadata": {},
   "outputs": [
    {
     "name": "stdout",
     "output_type": "stream",
     "text": [
      "Epoch 1/20\n",
      "21/21 [==============================] - 3s 32ms/step - loss: 5.6243 - accuracy: 0.0422\n",
      "Epoch 2/20\n",
      "21/21 [==============================] - 1s 32ms/step - loss: 5.2785 - accuracy: 0.0452\n",
      "Epoch 3/20\n",
      "21/21 [==============================] - 1s 32ms/step - loss: 5.1760 - accuracy: 0.0437\n",
      "Epoch 4/20\n",
      "21/21 [==============================] - 1s 33ms/step - loss: 5.0880 - accuracy: 0.0483\n",
      "Epoch 5/20\n",
      "21/21 [==============================] - 1s 33ms/step - loss: 5.0042 - accuracy: 0.0468\n",
      "Epoch 6/20\n",
      "21/21 [==============================] - 1s 33ms/step - loss: 4.8873 - accuracy: 0.0498\n",
      "Epoch 7/20\n",
      "21/21 [==============================] - 1s 33ms/step - loss: 4.7959 - accuracy: 0.0618\n",
      "Epoch 8/20\n",
      "21/21 [==============================] - 1s 33ms/step - loss: 4.7147 - accuracy: 0.0649\n",
      "Epoch 9/20\n",
      "21/21 [==============================] - 1s 33ms/step - loss: 4.6350 - accuracy: 0.0588\n",
      "Epoch 10/20\n",
      "21/21 [==============================] - 1s 38ms/step - loss: 4.5447 - accuracy: 0.0694\n",
      "Epoch 11/20\n",
      "21/21 [==============================] - 1s 33ms/step - loss: 4.4789 - accuracy: 0.0799\n",
      "Epoch 12/20\n",
      "21/21 [==============================] - 1s 36ms/step - loss: 4.4195 - accuracy: 0.0739\n",
      "Epoch 13/20\n",
      "21/21 [==============================] - 1s 38ms/step - loss: 4.3038 - accuracy: 0.0980\n",
      "Epoch 14/20\n",
      "21/21 [==============================] - 1s 38ms/step - loss: 4.1817 - accuracy: 0.0905\n",
      "Epoch 15/20\n",
      "21/21 [==============================] - 1s 40ms/step - loss: 4.0527 - accuracy: 0.1116\n",
      "Epoch 16/20\n",
      "21/21 [==============================] - 1s 53ms/step - loss: 3.9542 - accuracy: 0.1176\n",
      "Epoch 17/20\n",
      "21/21 [==============================] - 1s 54ms/step - loss: 3.8548 - accuracy: 0.1433 0s - loss:\n",
      "Epoch 18/20\n",
      "21/21 [==============================] - 1s 56ms/step - loss: 3.7386 - accuracy: 0.1267\n",
      "Epoch 19/20\n",
      "21/21 [==============================] - 1s 47ms/step - loss: 3.6784 - accuracy: 0.1584\n",
      "Epoch 20/20\n",
      "21/21 [==============================] - 1s 50ms/step - loss: 3.5548 - accuracy: 0.1569\n"
     ]
    }
   ],
   "source": [
    "model = Sequential()\n",
    "model.add(Embedding(total_words, 40, input_length=max_sequence_len-1))\n",
    "model.add(Bidirectional(LSTM(250)))\n",
    "model.add(Dropout(0.1))\n",
    "model.add(Dense(total_words, activation='softmax'))\n",
    "model.compile(loss='categorical_crossentropy', optimizer='adam', metrics=['accuracy'])\n",
    "earlystop = EarlyStopping(monitor='loss', min_delta=0, patience=3, verbose=0, mode='auto')\n",
    "history = model.fit(X, y, epochs=20, verbose=1, callbacks=[earlystop])"
   ]
  },
  {
   "cell_type": "code",
   "execution_count": 15,
   "id": "88ba2e46-1fdc-4604-a596-09f0887c4c61",
   "metadata": {},
   "outputs": [
    {
     "data": {
      "image/png": "[encoded data removed]",
      "text/plain": [
       "<Figure size 432x288 with 1 Axes>"
      ]
     },
     "metadata": {},
     "output_type": "display_data"
    },
    {
     "data": {
      "text/plain": [
       "<Figure size 432x288 with 0 Axes>"
      ]
     },
     "metadata": {},
     "output_type": "display_data"
    }
   ],
   "source": [
    "plt.plot(history.history['accuracy'], label='train acc')\n",
    "plt.legend()\n",
    "plt.show()\n",
    "plt.savefig('AccVal_acc')"
   ]
  },
  {
   "cell_type": "code",
   "execution_count": 16,
   "id": "6b72fc74-d8b8-4f3a-8297-496a3026481e",
   "metadata": {},
   "outputs": [],
   "source": [
    "def complete_this_song(seed_text, next_words):\n",
    "    for _ in range(next_words):\n",
    "        token_list = tokenizer.texts_to_sequences([seed_text])[0]\n",
    "        token_list = pad_sequences([token_list], maxlen=max_sequence_len-1, padding='pre')\n",
    "        predicted = model.predict(token_list, verbose=0).all()\n",
    "        \n",
    "        output_word = \"\"\n",
    "        for word, index in tokenizer.word_index.items():\n",
    "            if index == predicted:\n",
    "                output_word = word\n",
    "                break\n",
    "        seed_text += \" \" + output_word\n",
    "    return seed_text"
   ]
  },
  {
   "cell_type": "code",
   "execution_count": 17,
   "id": "9a8c7411-9664-4b7b-8263-f1a0048ddf6c",
   "metadata": {},
   "outputs": [
    {
     "data": {
      "text/plain": [
       "\"water bottle i'm i'm i'm i'm i'm i'm i'm i'm i'm i'm i'm i'm i'm i'm i'm i'm i'm i'm i'm i'm i'm i'm i'm i'm i'm i'm i'm i'm i'm i'm i'm i'm i'm i'm i'm i'm i'm i'm i'm i'm i'm i'm i'm i'm i'm i'm i'm i'm i'm i'm\""
      ]
     },
     "execution_count": 17,
     "metadata": {},
     "output_type": "execute_result"
    }
   ],
   "source": [
    "complete_this_song('water bottle', 50)"
   ]
  },
  {
   "cell_type": "code",
   "execution_count": null,
   "id": "21c72a52-741f-4cda-8a9f-418d4b7e7742",
   "metadata": {},
   "outputs": [],
   "source": []
  }
 ],
 "metadata": {
  "kernelspec": {
   "display_name": "sentiment_venv",
   "language": "python",
   "name": "sentiment_venv"
  },
  "language_info": {
   "codemirror_mode": {
    "name": "ipython",
    "version": 3
   },
   "file_extension": ".py",
   "mimetype": "text/x-python",
   "name": "python",
   "nbconvert_exporter": "python",
   "pygments_lexer": "ipython3",
   "version": "3.9.7"
  }
 },
 "nbformat": 4,
 "nbformat_minor": 5
}
